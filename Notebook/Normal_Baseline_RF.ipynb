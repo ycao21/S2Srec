{
 "cells": [
  {
   "cell_type": "markdown",
   "id": "a832cece",
   "metadata": {
    "toc": true
   },
   "source": [
    "<h1>Table of Contents<span class=\"tocSkip\"></span></h1>\n",
    "<div class=\"toc\"><ul class=\"toc-item\"></ul></div>"
   ]
  },
  {
   "cell_type": "code",
   "execution_count": 20,
   "id": "58565882-6ce6-43ab-91c5-304ae11f2989",
   "metadata": {},
   "outputs": [],
   "source": [
    "from sklearn.ensemble import RandomForestClassifier\n",
    "from sklearn.datasets import make_classification\n",
    "\n",
    "from config import *\n",
    "\n",
    "import pickle\n",
    "import numpy as np"
   ]
  },
  {
   "cell_type": "code",
   "execution_count": 21,
   "id": "a7da0f0d-268b-43d7-bc58-0272abd15b6d",
   "metadata": {},
   "outputs": [],
   "source": [
    "with open(triplet_train_set_path, 'rb') as f:\n",
    "    train_set = pickle.load(f)\n",
    "# with open(triplet_test_set_path, 'rb') as f:\n",
    "#     test_set = pickle.load(f)\n",
    "with open(clf_test_set_path, 'rb') as f:\n",
    "    clf_test_set = pickle.load(f)\n",
    "    \n",
    "with open(ingred_emb_path, 'rb') as f:\n",
    "    ingred_emb = pickle.load(f)    "
   ]
  },
  {
   "cell_type": "code",
   "execution_count": 22,
   "id": "f8792bf3-82ed-47c7-bde9-9a439603f0cb",
   "metadata": {},
   "outputs": [],
   "source": [
    "n = len(train_set)\n",
    "train_recipe_cart_data = [[[e[0]+e[1], 1], [e[0]+e[2], 0]] for i, e in enumerate(train_set[:round(0.7*n)]) if i % 3 == 0]\n",
    "# valid_recipe_cart_data = [[[e[0]+e[1], 1], [e[0]+e[2], 0]] for i, e in enumerate(train_set[round(0.7*n):]) if i % 3 == 0]\n",
    "# test_recipe_cart_data = [[[e[0]+e[1], 1], [e[0]+e[2], 0]] for i, e in enumerate(test_set) if i % 3 == 0]\n",
    "test_recipe_cart_data = clf_test_set"
   ]
  },
  {
   "cell_type": "code",
   "execution_count": 23,
   "id": "fcbb3781-8867-4892-bcb6-1173a8adc94b",
   "metadata": {},
   "outputs": [],
   "source": [
    "X_y_train =  [i for ll in train_recipe_cart_data for i in ll]\n",
    "X_train = [i[0] for i in X_y_train]\n",
    "y_train = [i[1] for i in X_y_train]\n",
    "\n",
    "X_emb_train = []\n",
    "for i in X_train:\n",
    "    n = np.zeros(768)\n",
    "    for j in i:\n",
    "        n += ingred_emb[j]\n",
    "    n = n/len(i)\n",
    "    X_emb_train.append(n)"
   ]
  },
  {
   "cell_type": "code",
   "execution_count": 24,
   "id": "6e6128a2-8f0e-41fa-af10-0e8488d0514a",
   "metadata": {},
   "outputs": [],
   "source": [
    "# X_y_test =  [i for ll in test_recipe_cart_data for i in ll]\n",
    "X_y_test = test_recipe_cart_data\n",
    "X_test = [i[0]+i[1] for i in X_y_test]\n",
    "y_test = [i[2] for i in X_y_test]\n",
    "\n",
    "X_emb_test = []\n",
    "for i in X_test:\n",
    "    n = np.zeros(768)\n",
    "    for j in i:\n",
    "        n += ingred_emb[j]\n",
    "    n = n/len(i)\n",
    "    X_emb_test.append(n)"
   ]
  },
  {
   "cell_type": "code",
   "execution_count": 25,
   "id": "d56bb2bf-4a6f-44ff-a26a-cbc71948cb0a",
   "metadata": {},
   "outputs": [
    {
     "data": {
      "text/html": [
       "<style>#sk-container-id-2 {color: black;}#sk-container-id-2 pre{padding: 0;}#sk-container-id-2 div.sk-toggleable {background-color: white;}#sk-container-id-2 label.sk-toggleable__label {cursor: pointer;display: block;width: 100%;margin-bottom: 0;padding: 0.3em;box-sizing: border-box;text-align: center;}#sk-container-id-2 label.sk-toggleable__label-arrow:before {content: \"▸\";float: left;margin-right: 0.25em;color: #696969;}#sk-container-id-2 label.sk-toggleable__label-arrow:hover:before {color: black;}#sk-container-id-2 div.sk-estimator:hover label.sk-toggleable__label-arrow:before {color: black;}#sk-container-id-2 div.sk-toggleable__content {max-height: 0;max-width: 0;overflow: hidden;text-align: left;background-color: #f0f8ff;}#sk-container-id-2 div.sk-toggleable__content pre {margin: 0.2em;color: black;border-radius: 0.25em;background-color: #f0f8ff;}#sk-container-id-2 input.sk-toggleable__control:checked~div.sk-toggleable__content {max-height: 200px;max-width: 100%;overflow: auto;}#sk-container-id-2 input.sk-toggleable__control:checked~label.sk-toggleable__label-arrow:before {content: \"▾\";}#sk-container-id-2 div.sk-estimator input.sk-toggleable__control:checked~label.sk-toggleable__label {background-color: #d4ebff;}#sk-container-id-2 div.sk-label input.sk-toggleable__control:checked~label.sk-toggleable__label {background-color: #d4ebff;}#sk-container-id-2 input.sk-hidden--visually {border: 0;clip: rect(1px 1px 1px 1px);clip: rect(1px, 1px, 1px, 1px);height: 1px;margin: -1px;overflow: hidden;padding: 0;position: absolute;width: 1px;}#sk-container-id-2 div.sk-estimator {font-family: monospace;background-color: #f0f8ff;border: 1px dotted black;border-radius: 0.25em;box-sizing: border-box;margin-bottom: 0.5em;}#sk-container-id-2 div.sk-estimator:hover {background-color: #d4ebff;}#sk-container-id-2 div.sk-parallel-item::after {content: \"\";width: 100%;border-bottom: 1px solid gray;flex-grow: 1;}#sk-container-id-2 div.sk-label:hover label.sk-toggleable__label {background-color: #d4ebff;}#sk-container-id-2 div.sk-serial::before {content: \"\";position: absolute;border-left: 1px solid gray;box-sizing: border-box;top: 0;bottom: 0;left: 50%;z-index: 0;}#sk-container-id-2 div.sk-serial {display: flex;flex-direction: column;align-items: center;background-color: white;padding-right: 0.2em;padding-left: 0.2em;position: relative;}#sk-container-id-2 div.sk-item {position: relative;z-index: 1;}#sk-container-id-2 div.sk-parallel {display: flex;align-items: stretch;justify-content: center;background-color: white;position: relative;}#sk-container-id-2 div.sk-item::before, #sk-container-id-2 div.sk-parallel-item::before {content: \"\";position: absolute;border-left: 1px solid gray;box-sizing: border-box;top: 0;bottom: 0;left: 50%;z-index: -1;}#sk-container-id-2 div.sk-parallel-item {display: flex;flex-direction: column;z-index: 1;position: relative;background-color: white;}#sk-container-id-2 div.sk-parallel-item:first-child::after {align-self: flex-end;width: 50%;}#sk-container-id-2 div.sk-parallel-item:last-child::after {align-self: flex-start;width: 50%;}#sk-container-id-2 div.sk-parallel-item:only-child::after {width: 0;}#sk-container-id-2 div.sk-dashed-wrapped {border: 1px dashed gray;margin: 0 0.4em 0.5em 0.4em;box-sizing: border-box;padding-bottom: 0.4em;background-color: white;}#sk-container-id-2 div.sk-label label {font-family: monospace;font-weight: bold;display: inline-block;line-height: 1.2em;}#sk-container-id-2 div.sk-label-container {text-align: center;}#sk-container-id-2 div.sk-container {/* jupyter's `normalize.less` sets `[hidden] { display: none; }` but bootstrap.min.css set `[hidden] { display: none !important; }` so we also need the `!important` here to be able to override the default hidden behavior on the sphinx rendered scikit-learn.org. See: https://github.com/scikit-learn/scikit-learn/issues/21755 */display: inline-block !important;position: relative;}#sk-container-id-2 div.sk-text-repr-fallback {display: none;}</style><div id=\"sk-container-id-2\" class=\"sk-top-container\"><div class=\"sk-text-repr-fallback\"><pre>RandomForestClassifier(max_depth=15, random_state=123)</pre><b>In a Jupyter environment, please rerun this cell to show the HTML representation or trust the notebook. <br />On GitHub, the HTML representation is unable to render, please try loading this page with nbviewer.org.</b></div><div class=\"sk-container\" hidden><div class=\"sk-item\"><div class=\"sk-estimator sk-toggleable\"><input class=\"sk-toggleable__control sk-hidden--visually\" id=\"sk-estimator-id-2\" type=\"checkbox\" checked><label for=\"sk-estimator-id-2\" class=\"sk-toggleable__label sk-toggleable__label-arrow\">RandomForestClassifier</label><div class=\"sk-toggleable__content\"><pre>RandomForestClassifier(max_depth=15, random_state=123)</pre></div></div></div></div></div>"
      ],
      "text/plain": [
       "RandomForestClassifier(max_depth=15, random_state=123)"
      ]
     },
     "execution_count": 25,
     "metadata": {},
     "output_type": "execute_result"
    }
   ],
   "source": [
    "clf = RandomForestClassifier(max_depth=15, random_state=123)\n",
    "clf.fit(X_emb_train, y_train)"
   ]
  },
  {
   "cell_type": "code",
   "execution_count": null,
   "id": "8734d754-5a95-4f29-8c19-8b65c866a0ea",
   "metadata": {},
   "outputs": [],
   "source": []
  },
  {
   "cell_type": "code",
   "execution_count": 26,
   "id": "2f9310fb-87d8-49de-ac94-5b22dd6fd555",
   "metadata": {},
   "outputs": [],
   "source": [
    "y_hat_test = clf.predict(X_emb_test)"
   ]
  },
  {
   "cell_type": "code",
   "execution_count": 27,
   "id": "0411d486-bbec-4f00-b725-ca44c012c9b0",
   "metadata": {},
   "outputs": [],
   "source": [
    "TP = sum((np.array(y_hat_test) == np.array(y_test))&(np.array(y_test) ==1))"
   ]
  },
  {
   "cell_type": "code",
   "execution_count": 28,
   "id": "d23935de-4018-4d8b-b5fb-6303280aab1f",
   "metadata": {},
   "outputs": [],
   "source": [
    "predPs = sum(np.array(y_hat_test) == 1)"
   ]
  },
  {
   "cell_type": "code",
   "execution_count": 29,
   "id": "4b3a7016-bdf0-482a-8dd3-8345befe3ffb",
   "metadata": {
    "tags": []
   },
   "outputs": [],
   "source": [
    "actualPs = sum(np.array(y_test) == 1)"
   ]
  },
  {
   "cell_type": "code",
   "execution_count": 30,
   "id": "6ca329cd-8756-414b-8262-01fc46d424d8",
   "metadata": {},
   "outputs": [],
   "source": [
    "precision = TP/predPs\n",
    "recall = TP/actualPs"
   ]
  },
  {
   "cell_type": "code",
   "execution_count": 31,
   "id": "b930e05a-3cd3-4fb5-9166-b1a36402fb91",
   "metadata": {},
   "outputs": [
    {
     "data": {
      "text/plain": [
       "(0.6545981569088573, 0.7769555339175592)"
      ]
     },
     "execution_count": 31,
     "metadata": {},
     "output_type": "execute_result"
    }
   ],
   "source": [
    "precision, recall"
   ]
  },
  {
   "cell_type": "code",
   "execution_count": 32,
   "id": "fceaee6f-24eb-4551-a477-f0756a2cfd3d",
   "metadata": {},
   "outputs": [
    {
     "data": {
      "text/plain": [
       "0.8417478091528724"
      ]
     },
     "execution_count": 32,
     "metadata": {},
     "output_type": "execute_result"
    }
   ],
   "source": [
    "sum((np.array(y_hat_test) == np.array(y_test)))/len(X_emb_test)"
   ]
  },
  {
   "cell_type": "code",
   "execution_count": 33,
   "id": "373216a8-e140-4a14-993e-c1655ee7039f",
   "metadata": {},
   "outputs": [
    {
     "data": {
      "text/plain": [
       "0.7105406771728349"
      ]
     },
     "execution_count": 33,
     "metadata": {},
     "output_type": "execute_result"
    }
   ],
   "source": [
    "(2*0.65459*0.77695)/(0.65459+0.77695)"
   ]
  },
  {
   "cell_type": "code",
   "execution_count": null,
   "id": "a5964b84-8429-4d66-b466-016aa3df4643",
   "metadata": {},
   "outputs": [],
   "source": []
  }
 ],
 "metadata": {
  "environment": {
   "kernel": "python3",
   "name": "pytorch-gpu.2-0.m112",
   "type": "gcloud",
   "uri": "gcr.io/deeplearning-platform-release/pytorch-gpu.2-0:m112"
  },
  "kernelspec": {
   "display_name": "Python 3",
   "language": "python",
   "name": "python3"
  },
  "language_info": {
   "codemirror_mode": {
    "name": "ipython",
    "version": 3
   },
   "file_extension": ".py",
   "mimetype": "text/x-python",
   "name": "python",
   "nbconvert_exporter": "python",
   "pygments_lexer": "ipython3",
   "version": "3.10.12"
  },
  "toc": {
   "base_numbering": 1,
   "nav_menu": {},
   "number_sections": true,
   "sideBar": true,
   "skip_h1_title": false,
   "title_cell": "Table of Contents",
   "title_sidebar": "Contents",
   "toc_cell": true,
   "toc_position": {},
   "toc_section_display": true,
   "toc_window_display": false
  }
 },
 "nbformat": 4,
 "nbformat_minor": 5
}
